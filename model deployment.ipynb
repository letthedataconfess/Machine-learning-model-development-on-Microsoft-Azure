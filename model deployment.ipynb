{
  "cells": [
    {
      "metadata": {
        "trusted": true
      },
      "cell_type": "code",
      "source": "import json\nimport pickle\nimport numpy as np\nimport pandas as pd\n#from sklearn.externals import joblib\nfrom azureml.core.model import Model",
      "execution_count": 1,
      "outputs": []
    },
    {
      "metadata": {
        "trusted": true
      },
      "cell_type": "code",
      "source": "import joblib",
      "execution_count": 2,
      "outputs": []
    },
    {
      "metadata": {
        "trusted": true
      },
      "cell_type": "code",
      "source": "#Let's connect to our workspace:\nfrom azureml.core import Workspace\nws_new = Workspace.from_config(path=\".azureml/fc_config.json\")\nws_new",
      "execution_count": 8,
      "outputs": [
        {
          "output_type": "execute_result",
          "execution_count": 8,
          "data": {
            "text/plain": "Workspace.create(name='fraud_detect', subscription_id='53dc328a-1da3-4f32-a012-85cebcd27290', resource_group='Arpita')"
          },
          "metadata": {}
        }
      ]
    },
    {
      "metadata": {
        "trusted": true
      },
      "cell_type": "code",
      "source": "#sample = json.dumps({\"data\": [1,7234,2,3,0,1,1,2,1,2]})\n#3160241992,500,26000,N,0,Y,Y,800,677.2,6,Y\ndata = pd.DataFrame(data=[{\n              \"input_name_1\": 3160241992,        \n              \"input_name_2\": 500,    \n              \"input_name_3\": 26000,\n              \"input_name_4\": 0,        \n              \"input_name_5\": 0,    \n              \"input_name_6\": 1,\n              \"input_name_7\": 1,        \n              \"input_name_8\": 800,    \n              \"input_name_9\": 677.2,\n              \"input_name_10\":6 \n                }])\n#print(sample)\n#print(type(sample))\n#print(json.loads(sample)['data'])\n#my_array = np.array(json.loads(sample)['data'])\n#print(my_array.shape)\n#my2d_array = my_array.reshape(-1,1)\n#print(my2d_array)\n#print(my2d_array.shape)\n##test_samples = bytes(test_samples, encoding='utf8')\n\n#print(Model.list(ws))\nmodel_path = Model.get_model_path('frauddetection')\nprint(model_path)\n\nlocal_model = joblib.load(model_path)\nprint(\"local_model: \", local_model.predict(data))\n\ndef run(data):\n    #data = np.array(json.loads(data)['data'])\n    result = local_model.predict(data)\n    \n    return result.tolist()\n    \nprint(\"local_model_through_run_function: \", run(data))  \n",
      "execution_count": 9,
      "outputs": [
        {
          "output_type": "stream",
          "text": "azureml-models/frauddetection/1/model_fd1.pkl\nlocal_model:  [0]\nlocal_model_through_run_function:  [0]\n",
          "name": "stdout"
        },
        {
          "output_type": "stream",
          "text": "/home/nbuser/anaconda3_501/lib/python3.6/site-packages/sklearn/base.py:253: UserWarning: Trying to unpickle estimator LogisticRegression from version 0.19.1 when using version 0.20.3. This might lead to breaking code or invalid results. Use at your own risk.\n  UserWarning)\n",
          "name": "stderr"
        }
      ]
    },
    {
      "metadata": {
        "trusted": true
      },
      "cell_type": "code",
      "source": "local_model = joblib.load(model_path)",
      "execution_count": 10,
      "outputs": [
        {
          "output_type": "stream",
          "text": "/home/nbuser/anaconda3_501/lib/python3.6/site-packages/sklearn/base.py:253: UserWarning: Trying to unpickle estimator LogisticRegression from version 0.19.1 when using version 0.20.3. This might lead to breaking code or invalid results. Use at your own risk.\n  UserWarning)\n",
          "name": "stderr"
        }
      ]
    },
    {
      "metadata": {
        "trusted": true
      },
      "cell_type": "code",
      "source": "%%writefile score.py\nimport json\nimport pickle\nimport numpy as np\nimport pandas as pd\nfrom sklearn.externals import joblib\nfrom azureml.core.model import Model\n\n\n\ndef init():\n    global model\n    model_path = Model.get_model_path(model_name = 'frauddetection')\n    model = joblib.load(model_path)\n    \n    \n    \ndef run(data):\n    #data = np.array(json.loads(data)['data'])\n    result = model.predict(data)\n    \n    return result.tolist()",
      "execution_count": 13,
      "outputs": [
        {
          "output_type": "stream",
          "text": "Overwriting score.py\n",
          "name": "stdout"
        }
      ]
    },
    {
      "metadata": {
        "trusted": true
      },
      "cell_type": "code",
      "source": "from azureml.core.conda_dependencies import CondaDependencies\n\ndependencies = CondaDependencies()\ndependencies.set_python_version(\"3.6.6\")\ndependencies.add_pip_package(\"scikit-learn==0.19.1\")\ndependencies.add_pip_package(\"numpy==1.17.3\")\ndependencies.add_pip_package(\"pandas==0.19.2\")\ndependencies.add_pip_package(\"joblib==0.14.1\")\n#dependencies.add_pip_package(\"matplotlib==3.0.0\")\n\ndependencies.save_to_file(\".\",\"myenv.yml\")",
      "execution_count": 28,
      "outputs": [
        {
          "output_type": "execute_result",
          "execution_count": 28,
          "data": {
            "text/plain": "'myenv.yml'"
          },
          "metadata": {}
        }
      ]
    },
    {
      "metadata": {
        "trusted": true
      },
      "cell_type": "code",
      "source": "from azureml.core.webservice import AciWebservice, Webservice\nfrom azureml.core.image import ContainerImage",
      "execution_count": 29,
      "outputs": []
    },
    {
      "metadata": {
        "trusted": true
      },
      "cell_type": "code",
      "source": "# Define the configuration of compute: ACI with 1 cpu core and 1 gb of memory.\naci_config = AciWebservice.deploy_configuration(cpu_cores = 1, memory_gb = 1)\naci_config\n\n",
      "execution_count": 30,
      "outputs": [
        {
          "output_type": "execute_result",
          "execution_count": 30,
          "data": {
            "text/plain": "<azureml.core.webservice.aci.AciServiceDeploymentConfiguration at 0x7f54983d68d0>"
          },
          "metadata": {}
        }
      ]
    },
    {
      "metadata": {
        "trusted": true
      },
      "cell_type": "code",
      "source": "# Build a container image\nimage_config = ContainerImage.image_configuration(execution_script = \"score.py\", \n                                   runtime = \"python\", \n                                   conda_file = \"myenv.yml\")\nimage_config\n",
      "execution_count": 31,
      "outputs": [
        {
          "output_type": "execute_result",
          "execution_count": 31,
          "data": {
            "text/plain": "<azureml.core.image.container.ContainerImageConfig at 0x7f54983d6048>"
          },
          "metadata": {}
        }
      ]
    },
    {
      "metadata": {
        "trusted": true
      },
      "cell_type": "code",
      "source": "# from azureml.core import Workspace\n# ws_new = Workspace.from_config()\n# ws_new",
      "execution_count": 32,
      "outputs": []
    },
    {
      "metadata": {
        "trusted": true
      },
      "cell_type": "code",
      "source": "model_path = Model.get_model_path('frauddetection')\nmodel = Model(ws_new,'frauddetection')",
      "execution_count": 33,
      "outputs": []
    },
    {
      "metadata": {
        "trusted": true
      },
      "cell_type": "code",
      "source": "# Deploy the web service as an image containing the registered model.\n\nservice = Webservice.deploy_from_model(name = \"frauddetection\",\n                                        deployment_config = aci_config,\n                                        models = [model],\n                                        image_config = image_config,\n                                        workspace = ws_new)\n\n# The service deployment can take several minutes: wait for completion.\nservice.wait_for_deployment(show_output = True)",
      "execution_count": null,
      "outputs": [
        {
          "output_type": "stream",
          "text": "Creating image\nRunning.............................................\nSucceeded\nImage creation operation finished for image frauddetection:1, operation \"Succeeded\"\nRunning...............................................................................................................................................................................................................................................",
          "name": "stdout"
        }
      ]
    },
    {
      "metadata": {
        "trusted": true
      },
      "cell_type": "code",
      "source": "#Webservice.deploy_from_image(workspace=ws_new,name = \"frauddetection1\", image = \"fraud-detection\", deployment_config=aci_config)\n# The service deployment can take several minutes: wait for completion.\n#service.wait_for_deployment(show_output = True)",
      "execution_count": 27,
      "outputs": []
    },
    {
      "metadata": {
        "trusted": true
      },
      "cell_type": "code",
      "source": "service.get_logs()",
      "execution_count": null,
      "outputs": []
    },
    {
      "metadata": {
        "trusted": true
      },
      "cell_type": "code",
      "source": "service.delete()",
      "execution_count": null,
      "outputs": []
    },
    {
      "metadata": {
        "trusted": true
      },
      "cell_type": "code",
      "source": "sample = json.dumps({\"data\": [3160041896,185.5,4823,1,5,0,0,0,0,0]})\nprint(sample)\nresult = service.run(sample)\n#json.loads(sample)['data']\nprint(\"return_from_aci_deployment: \", result)\n#my_model = joblib.load(model_path)\n#data = np.array([1,3,5,7])\n#data\n#data.size",
      "execution_count": null,
      "outputs": []
    },
    {
      "metadata": {
        "trusted": true
      },
      "cell_type": "code",
      "source": "",
      "execution_count": null,
      "outputs": []
    }
  ],
  "metadata": {
    "kernelspec": {
      "name": "python36",
      "display_name": "Python 3.6",
      "language": "python"
    },
    "language_info": {
      "mimetype": "text/x-python",
      "nbconvert_exporter": "python",
      "name": "python",
      "pygments_lexer": "ipython3",
      "version": "3.6.6",
      "file_extension": ".py",
      "codemirror_mode": {
        "version": 3,
        "name": "ipython"
      }
    }
  },
  "nbformat": 4,
  "nbformat_minor": 1
}