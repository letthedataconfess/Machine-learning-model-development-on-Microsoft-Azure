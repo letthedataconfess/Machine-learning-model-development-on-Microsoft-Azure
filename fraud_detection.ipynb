{
  "cells": [
    {
      "metadata": {
        "trusted": true
      },
      "cell_type": "code",
      "source": "!pip install azureml-core",
      "execution_count": 3,
      "outputs": [
        {
          "output_type": "stream",
          "text": "Collecting azureml-core\n\u001b[?25l  Downloading https://files.pythonhosted.org/packages/22/38/6c763c4194b751550fd57fdfebcd3ec1431c0d634f17e004923ea7a4e90c/azureml_core-1.8.0-py3-none-any.whl (1.5MB)\n\u001b[K     |████████████████████████████████| 1.5MB 74kB/s  eta 0:00:01\n\u001b[?25hCollecting backports.tempfile\n  Downloading https://files.pythonhosted.org/packages/b4/5c/077f910632476281428fe254807952eb47ca78e720d059a46178c541e669/backports.tempfile-1.0-py2.py3-none-any.whl\nCollecting azure-mgmt-authorization>=0.40.0\n\u001b[?25l  Downloading https://files.pythonhosted.org/packages/5e/17/4724694ddb3311955ddc367eddcd0928f8ee2c7b12d5a6f0b12bca0b03db/azure_mgmt_authorization-0.60.0-py2.py3-none-any.whl (82kB)\n\u001b[K     |████████████████████████████████| 92kB 730kB/s eta 0:00:011\n\u001b[?25hCollecting ruamel.yaml>0.16.7\n\u001b[?25l  Downloading https://files.pythonhosted.org/packages/a6/92/59af3e38227b9cc14520bf1e59516d99ceca53e3b8448094248171e9432b/ruamel.yaml-0.16.10-py2.py3-none-any.whl (111kB)\n\u001b[K     |████████████████████████████████| 112kB 5.0MB/s eta 0:00:01\n\u001b[?25hRequirement already satisfied: pytz in /home/nbuser/anaconda3_420/lib/python3.5/site-packages (from azureml-core) (2016.6.1)\nCollecting docker\n\u001b[?25l  Downloading https://files.pythonhosted.org/packages/2b/80/4eab8a38ff62c31716d07753980a7c5e6550b61096926384f01e742b4a4b/docker-4.2.1-py2.py3-none-any.whl (143kB)\n\u001b[K     |████████████████████████████████| 153kB 5.8MB/s eta 0:00:01\n\u001b[?25hRequirement already satisfied: contextlib2 in /home/nbuser/anaconda3_420/lib/python3.5/site-packages (from azureml-core) (0.5.3)\nCollecting msrestazure>=0.4.33\n\u001b[?25l  Downloading https://files.pythonhosted.org/packages/01/70/4abd575d876428e3892ca6b7acafb59b53cb9923fa6aec2cbbf173495ce1/msrestazure-0.6.3-py2.py3-none-any.whl (40kB)\n\u001b[K     |████████████████████████████████| 40kB 277kB/s eta 0:00:01\n\u001b[?25hCollecting SecretStorage\n  Downloading https://files.pythonhosted.org/packages/c3/50/8a02cad020e949e6d7105f5f4530d41e3febcaa5b73f8f2148aacb3aeba5/SecretStorage-3.1.2-py3-none-any.whl\nCollecting azure-mgmt-storage>=1.5.0\n\u001b[?25l  Downloading https://files.pythonhosted.org/packages/08/64/04619c2c914aac4793ef0cf32e3aba7752ca2464e36c8f247829a0385ae5/azure_mgmt_storage-11.0.0-py2.py3-none-any.whl (546kB)\n\u001b[K     |████████████████████████████████| 552kB 1.7MB/s eta 0:00:01\n\u001b[?25hCollecting azure-mgmt-network~=10.0\n\u001b[?25l  Downloading https://files.pythonhosted.org/packages/39/d8/84a181e6e4926ebad56e68c1d05427f5ad64e7a784acab82a302dc4a93d2/azure_mgmt_network-10.2.0-py2.py3-none-any.whl (8.6MB)\n\u001b[K     |████████████████████████████████| 8.6MB 13kB/s  eta 0:00:01     |██▍                             | 645kB 1.1MB/s eta 0:00:08     |████                            | 1.1MB 65kB/s eta 0:01:56     |████▌                           | 1.2MB 65kB/s eta 0:01:54     |████▋                           | 1.2MB 179kB/s eta 0:00:41     |███████████████████▍            | 5.2MB 94kB/s eta 0:00:36     |████████████████████▎           | 5.4MB 94kB/s eta 0:00:33     |█████████████████████▋          | 5.8MB 94kB/s eta 0:00:30     |████████████████████████▎       | 6.5MB 94kB/s eta 0:00:22\n\u001b[?25hCollecting azure-mgmt-resource>=1.2.1\n\u001b[?25l  Downloading https://files.pythonhosted.org/packages/be/20/b639d8e4b0c1c49e3f1373c6a7948fd4ced55e57f204b63fb15a7cd77e73/azure_mgmt_resource-10.0.0-py2.py3-none-any.whl (809kB)\n\u001b[K     |████████████████████████████████| 819kB 10.0MB/s eta 0:00:01     |██████████████▋                 | 368kB 10.0MB/s eta 0:00:01\n\u001b[?25hRequirement already satisfied: python-dateutil>=2.7.3 in /home/nbuser/anaconda3_420/lib/python3.5/site-packages (from azureml-core) (2.8.1)\nCollecting ndg-httpsclient\n  Downloading https://files.pythonhosted.org/packages/fb/67/c2f508c00ed2a6911541494504b7cac16fe0b0473912568df65fd1801132/ndg_httpsclient-0.5.1-py3-none-any.whl\nRequirement already satisfied: msrest>=0.5.1 in /home/nbuser/anaconda3_420/lib/python3.5/site-packages (from azureml-core) (0.6.10)\nCollecting requests>=2.19.1\n\u001b[?25l  Downloading https://files.pythonhosted.org/packages/45/1e/0c169c6a5381e241ba7404532c16a21d86ab872c9bed8bdcd4c423954103/requests-2.24.0-py2.py3-none-any.whl (61kB)\n\u001b[K     |████████████████████████████████| 71kB 353kB/s  eta 0:00:01\n\u001b[?25hRequirement already satisfied: urllib3>=1.23 in /home/nbuser/anaconda3_420/lib/python3.5/site-packages (from azureml-core) (1.25.6)\nCollecting azure-graphrbac>=0.40.0\n\u001b[?25l  Downloading https://files.pythonhosted.org/packages/3e/93/02056aca45162f9fc275d1eaad12a2a07ef92375afb48eabddc4134b8315/azure_graphrbac-0.61.1-py2.py3-none-any.whl (141kB)\n\u001b[K     |████████████████████████████████| 143kB 5.1MB/s eta 0:00:01\n\u001b[?25hRequirement already satisfied: azure-common>=1.1.12 in /home/nbuser/anaconda3_420/lib/python3.5/site-packages (from azureml-core) (1.1.23)\nCollecting cryptography!=1.9,!=2.0.*,!=2.1.*,!=2.2.*\n\u001b[?25l  Downloading https://files.pythonhosted.org/packages/3c/04/686efee2dcdd25aecf357992e7d9362f443eb182ecd623f882bc9f7a6bba/cryptography-2.9.2-cp35-abi3-manylinux2010_x86_64.whl (2.7MB)\n\u001b[K     |████████████████████████████████| 2.7MB 45kB/s  eta 0:00:01\n\u001b[?25hCollecting jsonpickle\n  Downloading https://files.pythonhosted.org/packages/af/ca/4fee219cc4113a5635e348ad951cf8a2e47fed2e3342312493f5b73d0007/jsonpickle-1.4.1-py2.py3-none-any.whl\nCollecting azure-mgmt-keyvault>=0.40.0\n\u001b[?25l  Downloading https://files.pythonhosted.org/packages/f1/af/1ba15e7176bcf6b1531b453e410ae41a983c09f834d8700dfce739451b53/azure_mgmt_keyvault-2.2.0-py2.py3-none-any.whl (89kB)\n\u001b[K     |████████████████████████████████| 92kB 565kB/s eta 0:00:011\n\u001b[?25hRequirement already satisfied: pyopenssl in /home/nbuser/anaconda3_420/lib/python3.5/site-packages (from azureml-core) (17.2.0)\nCollecting azure-mgmt-containerregistry>=2.0.0\n\u001b[?25l  Downloading https://files.pythonhosted.org/packages/97/70/8c2d0509db466678eba16fa2b0a539499f3b351b1f2993126ad843d5be13/azure_mgmt_containerregistry-2.8.0-py2.py3-none-any.whl (718kB)\n\u001b[K     |████████████████████████████████| 727kB 10.4MB/s eta 0:00:01\n\u001b[?25hRequirement already satisfied: PyJWT in /home/nbuser/anaconda3_420/lib/python3.5/site-packages (from azureml-core) (1.7.1)\nRequirement already satisfied: jmespath in /home/nbuser/anaconda3_420/lib/python3.5/site-packages (from azureml-core) (0.9.4)\nCollecting pathspec\n  Downloading https://files.pythonhosted.org/packages/5d/d0/887c58853bd4b6ffc7aa9cdba4fc57d7b979b45888a6bd47e4568e1cf868/pathspec-0.8.0-py2.py3-none-any.whl\nRequirement already satisfied: adal>=1.2.0 in /home/nbuser/anaconda3_420/lib/python3.5/site-packages (from azureml-core) (1.2.2)\nCollecting backports.weakref\n  Downloading https://files.pythonhosted.org/packages/88/ec/f598b633c3d5ffe267aaada57d961c94fdfa183c5c3ebda2b6d151943db6/backports.weakref-1.0.post1-py2.py3-none-any.whl\nCollecting ruamel.yaml.clib>=0.1.2; platform_python_implementation == \"CPython\" and python_version < \"3.9\"\n\u001b[?25l  Downloading https://files.pythonhosted.org/packages/e8/da/d7f3368dcb3ed175b5b5778362c2e7092988ff3878d23f9b717708d9a01f/ruamel.yaml.clib-0.2.0-cp35-cp35m-manylinux1_x86_64.whl (526kB)\n\u001b[K     |████████████████████████████████| 532kB 3.5MB/s eta 0:00:01\n\u001b[?25hRequirement already satisfied: six>=1.4.0 in /home/nbuser/anaconda3_420/lib/python3.5/site-packages (from docker->azureml-core) (1.11.0)\nRequirement already satisfied: websocket-client>=0.32.0 in /home/nbuser/anaconda3_420/lib/python3.5/site-packages (from docker->azureml-core) (0.56.0)\nCollecting jeepney>=0.4.2\n  Downloading https://files.pythonhosted.org/packages/79/31/2e8d42727595faf224c6dbb748c32b192e212f25495fe841fb7ce8e168b8/jeepney-0.4.3-py3-none-any.whl\nRequirement already satisfied: pyasn1>=0.1.1 in /home/nbuser/anaconda3_420/lib/python3.5/site-packages (from ndg-httpsclient->azureml-core) (0.1.9)\nRequirement already satisfied: isodate>=0.6.0 in /home/nbuser/anaconda3_420/lib/python3.5/site-packages (from msrest>=0.5.1->azureml-core) (0.6.0)\nRequirement already satisfied: requests-oauthlib>=0.5.0 in /home/nbuser/anaconda3_420/lib/python3.5/site-packages (from msrest>=0.5.1->azureml-core) (1.3.0)\nRequirement already satisfied: certifi>=2017.4.17 in /home/nbuser/anaconda3_420/lib/python3.5/site-packages (from msrest>=0.5.1->azureml-core) (2019.9.11)\n",
          "name": "stdout"
        },
        {
          "output_type": "stream",
          "text": "Requirement already satisfied: idna<3,>=2.5 in /home/nbuser/anaconda3_420/lib/python3.5/site-packages (from requests>=2.19.1->azureml-core) (2.8)\nCollecting chardet<4,>=3.0.2\n  Using cached https://files.pythonhosted.org/packages/bc/a9/01ffebfb562e4274b6487b4bb1ddec7ca55ec7510b22e4c51f14098443b8/chardet-3.0.4-py2.py3-none-any.whl\nCollecting cffi!=1.11.3,>=1.8\n\u001b[?25l  Downloading https://files.pythonhosted.org/packages/d6/7f/7acc85c478f5056b98c9961a31697b1e53fbec158ee5f723097e1c355660/cffi-1.14.0-cp35-cp35m-manylinux1_x86_64.whl (399kB)\n\u001b[K     |████████████████████████████████| 409kB 8.5MB/s eta 0:00:01\n\u001b[?25hCollecting importlib-metadata\n  Downloading https://files.pythonhosted.org/packages/98/13/a1d703ec396ade42c1d33df0e1cb691a28b7c08b336a5683912c87e04cd7/importlib_metadata-1.6.1-py2.py3-none-any.whl\nRequirement already satisfied: oauthlib>=3.0.0 in /home/nbuser/anaconda3_420/lib/python3.5/site-packages (from requests-oauthlib>=0.5.0->msrest>=0.5.1->azureml-core) (3.1.0)\nRequirement already satisfied: pycparser in /home/nbuser/anaconda3_420/lib/python3.5/site-packages (from cffi!=1.11.3,>=1.8->cryptography!=1.9,!=2.0.*,!=2.1.*,!=2.2.*->azureml-core) (2.14)\nCollecting zipp>=0.5\n  Downloading https://files.pythonhosted.org/packages/96/0a/67556e9b7782df7118c1f49bdc494da5e5e429c93aa77965f33e81287c8c/zipp-1.2.0-py2.py3-none-any.whl\nInstalling collected packages: backports.weakref, backports.tempfile, msrestazure, azure-mgmt-authorization, ruamel.yaml.clib, ruamel.yaml, chardet, requests, docker, jeepney, cffi, cryptography, SecretStorage, azure-mgmt-storage, azure-mgmt-network, azure-mgmt-resource, ndg-httpsclient, azure-graphrbac, zipp, importlib-metadata, jsonpickle, azure-mgmt-keyvault, azure-mgmt-containerregistry, pathspec, azureml-core\n  Found existing installation: requests 2.14.2\n    Uninstalling requests-2.14.2:\n      Successfully uninstalled requests-2.14.2\n  Found existing installation: cffi 1.7.0\n    Uninstalling cffi-1.7.0:\n      Successfully uninstalled cffi-1.7.0\n  Found existing installation: cryptography 2.0.3\n    Uninstalling cryptography-2.0.3:\n      Successfully uninstalled cryptography-2.0.3\nSuccessfully installed SecretStorage-3.1.2 azure-graphrbac-0.61.1 azure-mgmt-authorization-0.60.0 azure-mgmt-containerregistry-2.8.0 azure-mgmt-keyvault-2.2.0 azure-mgmt-network-10.2.0 azure-mgmt-resource-10.0.0 azure-mgmt-storage-11.0.0 azureml-core-1.8.0 backports.tempfile-1.0 backports.weakref-1.0.post1 cffi-1.14.0 chardet-3.0.4 cryptography-2.9.2 docker-4.2.1 importlib-metadata-1.6.1 jeepney-0.4.3 jsonpickle-1.4.1 msrestazure-0.6.3 ndg-httpsclient-0.5.1 pathspec-0.8.0 requests-2.24.0 ruamel.yaml-0.16.10 ruamel.yaml.clib-0.2.0 zipp-1.2.0\n\u001b[33mWARNING: You are using pip version 19.3.1; however, version 20.1.1 is available.\nYou should consider upgrading via the 'pip install --upgrade pip' command.\u001b[0m\n",
          "name": "stdout"
        }
      ]
    },
    {
      "metadata": {
        "trusted": true
      },
      "cell_type": "code",
      "source": "!pip install --upgrade pip",
      "execution_count": 5,
      "outputs": [
        {
          "output_type": "stream",
          "text": "Collecting pip\n\u001b[?25l  Downloading https://files.pythonhosted.org/packages/43/84/23ed6a1796480a6f1a2d38f2802901d078266bda38388954d01d3f2e821d/pip-20.1.1-py2.py3-none-any.whl (1.5MB)\n\u001b[K     |████████████████████████████████| 1.5MB 658kB/s eta 0:00:01\n\u001b[?25hInstalling collected packages: pip\n  Found existing installation: pip 19.3.1\n    Uninstalling pip-19.3.1:\n      Successfully uninstalled pip-19.3.1\nSuccessfully installed pip-20.1.1\n",
          "name": "stdout"
        }
      ]
    },
    {
      "metadata": {
        "trusted": true
      },
      "cell_type": "code",
      "source": "from azureml.core import Workspace\nws_new = Workspace.from_config(path=\"./.azureml/fc_config.json\")\nws_new.get_details()",
      "execution_count": 6,
      "outputs": [
        {
          "output_type": "execute_result",
          "execution_count": 6,
          "data": {
            "text/plain": "{'applicationInsights': '/subscriptions/53dc328a-1da3-4f32-a012-85cebcd27290/resourcegroups/arpita/providers/microsoft.insights/components/frauddetinsights049c8a8f',\n 'creationTime': '2020-06-22T16:35:28.0152590+00:00',\n 'description': '',\n 'discoveryUrl': 'https://eastus2.experiments.azureml.net/discovery',\n 'friendlyName': 'fraud_detect',\n 'hbiWorkspace': False,\n 'id': '/subscriptions/53dc328a-1da3-4f32-a012-85cebcd27290/resourceGroups/Arpita/providers/Microsoft.MachineLearningServices/workspaces/fraud_detect',\n 'identityPrincipalId': 'c8142116-3151-4484-a277-1a0f9ddb9b1f',\n 'identityTenantId': '652b1a9f-474c-4307-8c46-8dbb757f11b3',\n 'identityType': 'SystemAssigned',\n 'keyVault': '/subscriptions/53dc328a-1da3-4f32-a012-85cebcd27290/resourcegroups/arpita/providers/microsoft.keyvault/vaults/frauddetkeyvault0519236d',\n 'location': 'eastus2',\n 'name': 'fraud_detect',\n 'sku': 'Basic',\n 'storageAccount': '/subscriptions/53dc328a-1da3-4f32-a012-85cebcd27290/resourcegroups/arpita/providers/microsoft.storage/storageaccounts/frauddetstorage8095dce72',\n 'type': 'Microsoft.MachineLearningServices/workspaces',\n 'workspaceid': 'b2238529-1cd2-4c56-9c5e-5e68f09da36c'}"
          },
          "metadata": {}
        }
      ]
    },
    {
      "metadata": {
        "trusted": true
      },
      "cell_type": "code",
      "source": "!pip install joblib",
      "execution_count": 8,
      "outputs": [
        {
          "output_type": "stream",
          "text": "Collecting joblib\n  Downloading joblib-0.14.1-py2.py3-none-any.whl (294 kB)\n\u001b[K     |████████████████████████████████| 294 kB 1.8 MB/s eta 0:00:01\n\u001b[?25hInstalling collected packages: joblib\nSuccessfully installed joblib-0.14.1\n",
          "name": "stdout"
        }
      ]
    },
    {
      "metadata": {
        "id": "nM81eVL4-0HQ",
        "colab_type": "code",
        "colab": {},
        "trusted": true
      },
      "cell_type": "code",
      "source": "import pandas as pd\nimport numpy as np\nfrom sklearn.model_selection import train_test_split\nfrom azureml.core import Run\nimport joblib\nfrom sklearn.linear_model import LogisticRegression\n",
      "execution_count": 9,
      "outputs": []
    },
    {
      "metadata": {
        "id": "oBI4wcCf-0HX",
        "colab_type": "code",
        "colab": {},
        "trusted": true
      },
      "cell_type": "code",
      "source": "df = pd.read_csv('credit_card_data.csv')",
      "execution_count": 10,
      "outputs": []
    },
    {
      "metadata": {
        "id": "s_ZFkHuG-0Hx",
        "colab_type": "code",
        "colab": {},
        "trusted": true
      },
      "cell_type": "code",
      "source": "from sklearn import preprocessing\nle = preprocessing.LabelEncoder()\ndf['isForeignTransaction'] = le.fit_transform(df['isForeignTransaction'])\ndf['Is declined'] = le.fit_transform(df['Is declined'])\ndf['isHighRiskCountry'] = le.fit_transform(df['isHighRiskCountry'])\ndf['isFradulent'] = le.fit_transform(df['isFradulent'])",
      "execution_count": 11,
      "outputs": []
    },
    {
      "metadata": {
        "id": "VxBnCIzJ-0IA",
        "colab_type": "code",
        "outputId": "88a5e8af-086a-4afc-a1ed-a5ffee73aa90",
        "colab": {
          "base_uri": "https://localhost:8080/",
          "height": 35
        },
        "trusted": true
      },
      "cell_type": "code",
      "source": "X = df.drop(['isFradulent'],axis=1)\ny = df['isFradulent']\nX_train, X_test, y_train, y_test = train_test_split(X, y, test_size=0.20, random_state=42)\nX_train.shape, y_train.shape,X_test.shape,y_test.shape",
      "execution_count": 12,
      "outputs": [
        {
          "output_type": "execute_result",
          "execution_count": 12,
          "data": {
            "text/plain": "((2460, 10), (2460,), (615, 10), (615,))"
          },
          "metadata": {}
        }
      ]
    },
    {
      "metadata": {
        "id": "Tn3ukaNsDBgl",
        "colab_type": "code",
        "outputId": "c7043cf9-81d2-4858-fca2-a73b8c90a238",
        "colab": {
          "base_uri": "https://localhost:8080/",
          "height": 104
        },
        "trusted": true
      },
      "cell_type": "code",
      "source": "X_train.columns",
      "execution_count": 13,
      "outputs": [
        {
          "output_type": "execute_result",
          "execution_count": 13,
          "data": {
            "text/plain": "Index(['Merchant_id', 'Average Amount/transaction/day', 'Transaction_amount',\n       'Is declined', 'Total Number of declines/day', 'isForeignTransaction',\n       'isHighRiskCountry', 'Daily_chargeback_avg_amt', '6_month_avg_chbk_amt',\n       '6-month_chbk_freq'],\n      dtype='object')"
          },
          "metadata": {}
        }
      ]
    },
    {
      "metadata": {
        "id": "8EU1OC2jBVeE",
        "colab_type": "code",
        "outputId": "89e84738-4888-4dda-d351-45063df5f112",
        "colab": {
          "base_uri": "https://localhost:8080/",
          "height": 35
        },
        "trusted": true
      },
      "cell_type": "code",
      "source": "from sklearn.linear_model import LogisticRegression\nclf = LogisticRegression(random_state=123).fit(X_train, y_train)\nclf.predict(X_test)\n\nclf.score(X_test, y_test)",
      "execution_count": 14,
      "outputs": [
        {
          "output_type": "execute_result",
          "execution_count": 14,
          "data": {
            "text/plain": "0.832520325203252"
          },
          "metadata": {}
        }
      ]
    },
    {
      "metadata": {},
      "cell_type": "markdown",
      "source": "### save the model"
    },
    {
      "metadata": {
        "trusted": true
      },
      "cell_type": "code",
      "source": "# Save the trained model\njoblib.dump(value=clf, filename='model_fd1.pkl')",
      "execution_count": 15,
      "outputs": [
        {
          "output_type": "execute_result",
          "execution_count": 15,
          "data": {
            "text/plain": "['model_fd1.pkl']"
          },
          "metadata": {}
        }
      ]
    },
    {
      "metadata": {},
      "cell_type": "markdown",
      "source": "### register the model"
    },
    {
      "metadata": {
        "trusted": true
      },
      "cell_type": "code",
      "source": "from azureml.core.model import Model\nmodel = Model.register(workspace=ws_new, model_path=\"./model_fd1.pkl\", model_name=\"frauddetection\")",
      "execution_count": 16,
      "outputs": [
        {
          "output_type": "stream",
          "text": "Registering model frauddetection\n",
          "name": "stdout"
        }
      ]
    },
    {
      "metadata": {
        "trusted": true
      },
      "cell_type": "code",
      "source": "from azureml.core.model import Model\nprint(Model.list(workspace = ws_new))",
      "execution_count": 18,
      "outputs": [
        {
          "output_type": "stream",
          "text": "[Model(workspace=Workspace.create(name='fraud_detect', subscription_id='53dc328a-1da3-4f32-a012-85cebcd27290', resource_group='Arpita'), name=frauddetection, id=frauddetection:1, version=1, tags={}, properties={})]\n",
          "name": "stdout"
        }
      ]
    },
    {
      "metadata": {
        "trusted": true
      },
      "cell_type": "code",
      "source": "#print(Model.get_model_path('frauddetection'))\nModel.get_model_path('frauddetection', version=1, _workspace=ws_new)",
      "execution_count": 28,
      "outputs": [
        {
          "output_type": "execute_result",
          "execution_count": 28,
          "data": {
            "text/plain": "'azureml-models/frauddetection/1/model_fd1.pkl'"
          },
          "metadata": {}
        }
      ]
    },
    {
      "metadata": {
        "trusted": true
      },
      "cell_type": "code",
      "source": "model = Model(ws_new,'frauddetection')\nprint(model)",
      "execution_count": 29,
      "outputs": [
        {
          "output_type": "stream",
          "text": "Model(workspace=Workspace.create(name='fraud_detect', subscription_id='53dc328a-1da3-4f32-a012-85cebcd27290', resource_group='Arpita'), name=frauddetection, id=frauddetection:1, version=1, tags={}, properties={})\n",
          "name": "stdout"
        }
      ]
    },
    {
      "metadata": {
        "trusted": true
      },
      "cell_type": "code",
      "source": "pd.__version__",
      "execution_count": 30,
      "outputs": [
        {
          "output_type": "execute_result",
          "execution_count": 30,
          "data": {
            "text/plain": "'0.19.2'"
          },
          "metadata": {}
        }
      ]
    },
    {
      "metadata": {
        "trusted": true
      },
      "cell_type": "code",
      "source": "np.__version__",
      "execution_count": 31,
      "outputs": [
        {
          "output_type": "execute_result",
          "execution_count": 31,
          "data": {
            "text/plain": "'1.17.3'"
          },
          "metadata": {}
        }
      ]
    },
    {
      "metadata": {
        "trusted": true
      },
      "cell_type": "code",
      "source": "import sys\n\nprint(sys.version)",
      "execution_count": 33,
      "outputs": [
        {
          "output_type": "stream",
          "text": "3.5.4 |Anaconda custom (64-bit)| (default, Oct 13 2017, 11:22:58) \n[GCC 7.2.0]\n",
          "name": "stdout"
        }
      ]
    },
    {
      "metadata": {
        "trusted": true
      },
      "cell_type": "code",
      "source": "import sklearn",
      "execution_count": 34,
      "outputs": []
    },
    {
      "metadata": {
        "trusted": true
      },
      "cell_type": "code",
      "source": "sklearn.__version__",
      "execution_count": 35,
      "outputs": [
        {
          "output_type": "execute_result",
          "execution_count": 35,
          "data": {
            "text/plain": "'0.19.1'"
          },
          "metadata": {}
        }
      ]
    },
    {
      "metadata": {
        "trusted": true
      },
      "cell_type": "code",
      "source": "import platform\nprint(platform.python_version())",
      "execution_count": 36,
      "outputs": [
        {
          "output_type": "stream",
          "text": "3.5.4\n",
          "name": "stdout"
        }
      ]
    },
    {
      "metadata": {
        "trusted": true
      },
      "cell_type": "code",
      "source": "import joblib\njoblib.__version__",
      "execution_count": 37,
      "outputs": [
        {
          "output_type": "execute_result",
          "execution_count": 37,
          "data": {
            "text/plain": "'0.14.1'"
          },
          "metadata": {}
        }
      ]
    },
    {
      "metadata": {
        "trusted": true
      },
      "cell_type": "code",
      "source": "",
      "execution_count": null,
      "outputs": []
    }
  ],
  "metadata": {
    "kernelspec": {
      "name": "python3",
      "display_name": "Python 3",
      "language": "python"
    },
    "colab": {
      "name": "fraud detection.ipynb",
      "provenance": [],
      "collapsed_sections": [],
      "toc_visible": true
    },
    "language_info": {
      "mimetype": "text/x-python",
      "nbconvert_exporter": "python",
      "name": "python",
      "file_extension": ".py",
      "version": "3.5.4",
      "pygments_lexer": "ipython3",
      "codemirror_mode": {
        "version": 3,
        "name": "ipython"
      }
    }
  },
  "nbformat": 4,
  "nbformat_minor": 1
}