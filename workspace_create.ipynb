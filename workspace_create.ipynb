{
  "cells": [
    {
      "metadata": {
        "trusted": true
      },
      "cell_type": "code",
      "source": "from azureml.core import Workspace\nws1 = Workspace.create(name='fraud_detect',\n               subscription_id='53dc328a-1da3-4f32-a012-85cebcd27290',\n               resource_group='Arpita',\n               create_resource_group=False,\n               location='eastus2'\n               )",
      "execution_count": 2,
      "outputs": [
        {
          "output_type": "stream",
          "text": "Deploying AppInsights with name frauddetinsights049c8a8f.\nDeployed AppInsights with name frauddetinsights049c8a8f. Took 10.55 seconds.\nDeploying KeyVault with name frauddetkeyvault0519236d.\nDeploying StorageAccount with name frauddetstorage8095dce72.\nDeployed KeyVault with name frauddetkeyvault0519236d. Took 26.71 seconds.\nDeployed StorageAccount with name frauddetstorage8095dce72. Took 32.14 seconds.\nDeploying Workspace with name fraud_detect.\nDeployed Workspace with name fraud_detect. Took 82.05 seconds.\n",
          "name": "stdout"
        }
      ]
    },
    {
      "metadata": {},
      "cell_type": "markdown",
      "source": "### create json config file to use it in multiple environment"
    },
    {
      "metadata": {
        "trusted": true
      },
      "cell_type": "code",
      "source": "ws1.write_config(path=\"./\", file_name=\"fc_config.json\")",
      "execution_count": 3,
      "outputs": []
    },
    {
      "metadata": {
        "trusted": true
      },
      "cell_type": "code",
      "source": "!cat .azureml/fc_config.json",
      "execution_count": 13,
      "outputs": [
        {
          "output_type": "stream",
          "text": "{\"Id\": null, \"Scope\": \"/subscriptions/53dc328a-1da3-4f32-a012-85cebcd27290/resourceGroups/Arpita/providers/Microsoft.MachineLearningServices/workspaces/fraud_detect\"}",
          "name": "stdout"
        }
      ]
    },
    {
      "metadata": {
        "trusted": true
      },
      "cell_type": "code",
      "source": "ws1 = Workspace.from_config(path=\"./.azureml/fc_config.json\")\nws1.get_details()",
      "execution_count": 14,
      "outputs": [
        {
          "output_type": "execute_result",
          "execution_count": 14,
          "data": {
            "text/plain": "{'id': '/subscriptions/53dc328a-1da3-4f32-a012-85cebcd27290/resourceGroups/Arpita/providers/Microsoft.MachineLearningServices/workspaces/fraud_detect',\n 'name': 'fraud_detect',\n 'location': 'eastus2',\n 'type': 'Microsoft.MachineLearningServices/workspaces',\n 'sku': 'Basic',\n 'workspaceid': 'b2238529-1cd2-4c56-9c5e-5e68f09da36c',\n 'description': '',\n 'friendlyName': 'fraud_detect',\n 'creationTime': '2020-06-22T16:35:28.0152590+00:00',\n 'keyVault': '/subscriptions/53dc328a-1da3-4f32-a012-85cebcd27290/resourcegroups/arpita/providers/microsoft.keyvault/vaults/frauddetkeyvault0519236d',\n 'applicationInsights': '/subscriptions/53dc328a-1da3-4f32-a012-85cebcd27290/resourcegroups/arpita/providers/microsoft.insights/components/frauddetinsights049c8a8f',\n 'identityPrincipalId': 'c8142116-3151-4484-a277-1a0f9ddb9b1f',\n 'identityTenantId': '652b1a9f-474c-4307-8c46-8dbb757f11b3',\n 'identityType': 'SystemAssigned',\n 'storageAccount': '/subscriptions/53dc328a-1da3-4f32-a012-85cebcd27290/resourcegroups/arpita/providers/microsoft.storage/storageaccounts/frauddetstorage8095dce72'}"
          },
          "metadata": {}
        }
      ]
    },
    {
      "metadata": {
        "trusted": true
      },
      "cell_type": "code",
      "source": "#https://docs.microsoft.com/en-us/python/api/azureml-core/azureml.core.workspace.workspace?view=azure-ml-py",
      "execution_count": null,
      "outputs": []
    }
  ],
  "metadata": {
    "kernelspec": {
      "name": "python36",
      "display_name": "Python 3.6",
      "language": "python"
    },
    "language_info": {
      "mimetype": "text/x-python",
      "nbconvert_exporter": "python",
      "name": "python",
      "pygments_lexer": "ipython3",
      "version": "3.6.6",
      "file_extension": ".py",
      "codemirror_mode": {
        "version": 3,
        "name": "ipython"
      }
    }
  },
  "nbformat": 4,
  "nbformat_minor": 2
}